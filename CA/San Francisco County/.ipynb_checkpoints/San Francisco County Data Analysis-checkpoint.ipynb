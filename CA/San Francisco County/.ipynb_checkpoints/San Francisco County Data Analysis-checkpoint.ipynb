{
 "cells": [
  {
   "cell_type": "code",
   "execution_count": 1,
   "metadata": {},
   "outputs": [],
   "source": [
    "import pandas as pd\n",
    "import numpy as np\n",
    "import matplotlib as plt"
   ]
  },
  {
   "cell_type": "code",
   "execution_count": 4,
   "metadata": {},
   "outputs": [],
   "source": [
    "low_memory=False"
   ]
  },
  {
   "cell_type": "code",
   "execution_count": 6,
   "metadata": {},
   "outputs": [],
   "source": [
    "a_2003 = \"2003_CSVs/efile_newest_SFO_2003_A.csv\"\n",
    "a_2003_df = pd.read_csv(a_2003)\n",
    "\n",
    "c_2003 = \"2003_CSVs/efile_newest_SFO_2003_C.csv\"\n",
    "c_2003_df = pd.read_csv(c_2003)\n",
    "\n",
    "f496p3_2003 = \"2003_CSVs/efile_newest_SFO_2003_F496P3.csv\"\n",
    "f496p3_2003_df_2003_df = pd.read_csv(f496p3_2003)\n",
    "\n",
    "a_2007 = \"2007_CSVs/efile_newest_SFO_2007_A.csv\"\n",
    "a_2007_df = pd.read_csv(a_2007)\n",
    "\n",
    "c_2007 = \"2007_CSVs/efile_newest_SFO_2007_C.csv\"\n",
    "c_2007_df = pd.read_csv(c_2007)\n",
    "\n",
    "f496p3_2007 = \"2007_CSVs/efile_newest_SFO_2007_F496P3.csv\"\n",
    "f496p3_2007_df = pd.read_csv(f496p3_2007)\n",
    "\n",
    "a_2011 = \"2011_CSVs/efile_newest_SFO_2011_A.csv\"\n",
    "a_2011_df = pd.read_csv(a_2011)\n",
    "\n",
    "c_2011 = \"2011_CSVs/efile_newest_SFO_2011_C.csv\"\n",
    "c_2011_df = pd.read_csv(c_2011)\n",
    "\n",
    "f496p3_2011 = \"2011_CSVs/efile_newest_SFO_2011_F496P3.csv\"\n",
    "f496p3_2011_df = pd.read_csv(f496p3_2011)\n",
    "\n",
    "a_2019 = \"2019_CSVs/efile_newest_SFO_2019_A.csv\"\n",
    "a_2019_df = pd.read_csv(a_2019)\n",
    "\n",
    "c_2019 = \"2019_CSVs/efile_newest_SFO_2019_C.csv\"\n",
    "c_2019_df = pd.read_csv(c_2019)\n",
    "\n",
    "f496p3_2019 = \"2019_CSVs/efile_newest_SFO_2019_F496P3.csv\"\n",
    "f496p3_2019_df = pd.read_csv(f496p3_2019)\n"
   ]
  },
  {
   "cell_type": "code",
   "execution_count": null,
   "metadata": {},
   "outputs": [],
   "source": []
  }
 ],
 "metadata": {
  "kernelspec": {
   "display_name": "PythonData",
   "language": "python",
   "name": "pythondata"
  },
  "language_info": {
   "codemirror_mode": {
    "name": "ipython",
    "version": 3
   },
   "file_extension": ".py",
   "mimetype": "text/x-python",
   "name": "python",
   "nbconvert_exporter": "python",
   "pygments_lexer": "ipython3",
   "version": "3.7.6"
  }
 },
 "nbformat": 4,
 "nbformat_minor": 4
}
